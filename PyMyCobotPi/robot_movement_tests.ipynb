{
 "cells": [
  {
   "cell_type": "code",
   "execution_count": 1,
   "metadata": {},
   "outputs": [],
   "source": [
    "from pymycobot.mycobot import MyCobot\n",
    "from pymycobot.genre import Angle\n",
    "# Variables needed to initialize MyCobot Pi\n",
    "from pymycobot import PI_PORT, PI_BAUD\n",
    "import time"
   ]
  },
  {
   "cell_type": "code",
   "execution_count": 2,
   "metadata": {},
   "outputs": [],
   "source": [
    "# Initialize MyCobot object\n",
    "mc = MyCobot(PI_PORT, PI_BAUD)"
   ]
  },
  {
   "cell_type": "code",
   "execution_count": 6,
   "metadata": {},
   "outputs": [],
   "source": [
    "# Set zero position and speed\n",
    "zero_position = [0, 0, 0, 0, 0, 0]\n",
    "# If you decrease speed increase the sleep time\n",
    "speed = 30"
   ]
  },
  {
   "cell_type": "code",
   "execution_count": 3,
   "metadata": {},
   "outputs": [],
   "source": [
    "# Use the number sequence to pass the coordinate parameters, so that the robot\n",
    "# arm can move to the specified position\n",
    "def move_zero_position(speed):\n",
    "    zero_position = [0, 0, 0, 0, 0, 0]\n",
    "    mc.send_angles(zero_position, speed)\n",
    "    print(mc.is_paused())\n",
    "    time.sleep(2.5)"
   ]
  },
  {
   "cell_type": "code",
   "execution_count": 31,
   "metadata": {},
   "outputs": [
    {
     "name": "stdout",
     "output_type": "stream",
     "text": [
      "-1\n"
     ]
    }
   ],
   "source": [
    "move_zero_position(speed)"
   ]
  },
  {
   "cell_type": "code",
   "execution_count": 3,
   "metadata": {},
   "outputs": [
    {
     "name": "stdout",
     "output_type": "stream",
     "text": [
      "[-82.96, 104.58, 80.33, -88.15, -93.51, -78.66]\n"
     ]
    }
   ],
   "source": [
    "# Get the coordinates of the current location\n",
    "angle_datas = mc.get_angles()\n",
    "print(angle_datas)"
   ]
  },
  {
   "cell_type": "code",
   "execution_count": 14,
   "metadata": {},
   "outputs": [],
   "source": [
    "mc.send_angle(Angle.J1.value, 90, speed)"
   ]
  },
  {
   "cell_type": "code",
   "execution_count": 3,
   "metadata": {},
   "outputs": [],
   "source": [
    "mc.release_all_servos()"
   ]
  },
  {
   "cell_type": "code",
   "execution_count": 13,
   "metadata": {},
   "outputs": [
    {
     "data": {
      "text/plain": [
       "[217.7, -62.0, 191.5, -165.15, 3.05, -91.72]"
      ]
     },
     "execution_count": 13,
     "metadata": {},
     "output_type": "execute_result"
    }
   ],
   "source": [
    "mc.get_coords()"
   ]
  },
  {
   "cell_type": "code",
   "execution_count": 14,
   "metadata": {},
   "outputs": [
    {
     "data": {
      "text/plain": [
       "[181.4, -65.7, 257.6, -148.94, 0.45, -94.17]"
      ]
     },
     "execution_count": 14,
     "metadata": {},
     "output_type": "execute_result"
    }
   ],
   "source": [
    "mc.get_coords()"
   ]
  },
  {
   "cell_type": "code",
   "execution_count": 15,
   "metadata": {},
   "outputs": [
    {
     "data": {
      "text/plain": [
       "[185.3, -197.7, 219.9, -155.2, 5.5, -122.99]"
      ]
     },
     "execution_count": 15,
     "metadata": {},
     "output_type": "execute_result"
    }
   ],
   "source": [
    "mc.get_coords()"
   ]
  },
  {
   "cell_type": "code",
   "execution_count": 16,
   "metadata": {},
   "outputs": [
    {
     "data": {
      "text/plain": [
       "[203.3, -206.4, 156.1, -161.51, 6.41, -122.52]"
      ]
     },
     "execution_count": 16,
     "metadata": {},
     "output_type": "execute_result"
    }
   ],
   "source": [
    "mc.get_coords()"
   ]
  },
  {
   "cell_type": "code",
   "execution_count": 41,
   "metadata": {},
   "outputs": [],
   "source": [
    "mc.release_all_servos()"
   ]
  },
  {
   "cell_type": "code",
   "execution_count": 74,
   "metadata": {},
   "outputs": [
    {
     "data": {
      "text/plain": [
       "[212.1, -90.4, 261.6, 20.61, 84.55, 15.25]"
      ]
     },
     "execution_count": 74,
     "metadata": {},
     "output_type": "execute_result"
    }
   ],
   "source": [
    "mc.get_coords()"
   ]
  },
  {
   "cell_type": "code",
   "execution_count": 75,
   "metadata": {},
   "outputs": [
    {
     "data": {
      "text/plain": [
       "[212.1, 81.2, 257.1, 62.5, 86.02, 51.69]"
      ]
     },
     "execution_count": 75,
     "metadata": {},
     "output_type": "execute_result"
    }
   ],
   "source": [
    "mc.get_coords()"
   ]
  },
  {
   "cell_type": "code",
   "execution_count": 43,
   "metadata": {},
   "outputs": [],
   "source": [
    "mc.release_all_servos()"
   ]
  },
  {
   "cell_type": "code",
   "execution_count": 44,
   "metadata": {},
   "outputs": [
    {
     "data": {
      "text/plain": [
       "[89.5, -161.0, 306.6, -155.2, -2.11, -114.02]"
      ]
     },
     "execution_count": 44,
     "metadata": {},
     "output_type": "execute_result"
    }
   ],
   "source": [
    "mc.get_coords()"
   ]
  },
  {
   "cell_type": "code",
   "execution_count": 92,
   "metadata": {},
   "outputs": [],
   "source": [
    "mc.send_coord(Coord.Z.value, -20, 30)"
   ]
  },
  {
   "cell_type": "code",
   "execution_count": 46,
   "metadata": {},
   "outputs": [],
   "source": [
    "zero_pos = [55.0, -61.5, 408.8, -94.48, 1.1, -87.79]\n",
    "above_orange = [148.0, -82.9, 315.6, -154.59, -0.2, -97.79]\n",
    "pick_orange = [223.4, -75.5, 233.0, -171.96, 2.69, -94.46]\n",
    "drop_orange = [185.3, -197.7, 219.9, -155.2, 5.5, -122.99]\n",
    "above_place = [89.5, -161.0, 306.6, -155.2, -2.11, -114.02]\n",
    "# drop_orange = [203.3, -206.4, 156.1, -161.51, 6.41, -122.52]"
   ]
  },
  {
   "cell_type": "code",
   "execution_count": 68,
   "metadata": {},
   "outputs": [],
   "source": [
    "mc.send_coords(zero_pos, speed, 1)"
   ]
  },
  {
   "cell_type": "code",
   "execution_count": 69,
   "metadata": {},
   "outputs": [],
   "source": [
    "mc.send_coords(pick_orange, speed, 1)"
   ]
  },
  {
   "cell_type": "code",
   "execution_count": 70,
   "metadata": {},
   "outputs": [],
   "source": [
    "mc.send_coords(above_orange, speed, 1)"
   ]
  },
  {
   "cell_type": "code",
   "execution_count": 71,
   "metadata": {},
   "outputs": [],
   "source": [
    "mc.send_coords(drop_orange, speed, 1)"
   ]
  },
  {
   "cell_type": "code",
   "execution_count": 72,
   "metadata": {},
   "outputs": [],
   "source": [
    "mc.send_coords(above_place, speed, 1)"
   ]
  },
  {
   "cell_type": "code",
   "execution_count": 73,
   "metadata": {},
   "outputs": [],
   "source": [
    "mc.send_coords(zero_pos, speed, 1)"
   ]
  },
  {
   "cell_type": "markdown",
   "metadata": {},
   "source": [
    "# Carry Spoon"
   ]
  },
  {
   "cell_type": "code",
   "execution_count": 1,
   "metadata": {},
   "outputs": [],
   "source": [
    "from pymycobot.genre import Coord\n",
    "\n",
    "def carry_spoon_set_position():\n",
    "    zero_pos_coords = [34.4, -65.7, 417.8, 21.44, 82.17, 18.69]\n",
    "\n",
    "    drop_pos =[212.1, 81.2, 257.1, 62.5, 86.02, 51.69]\n",
    "\n",
    "    pick_pos_0 = [164.6, -84.1, 275.1, 29.03, 83.8, 26.74]\n",
    "\n",
    "    pick_pos = [212.1, -90.4, 261.6, 20.61, 84.55, 15.25]\n",
    "    \n",
    "def carry_spoon_move():\n",
    "\n",
    "    mc.send_coords(zero_pos_coords, speed, 1)\n",
    "\n",
    "    mc.send_coords(pick_pos_0, speed, 1)\n",
    "\n",
    "    mc.send_coords(pick_pos, speed, 1)\n",
    "\n",
    "    mc.send_coords(drop_pos, speed, 1)\n",
    "\n",
    "    mc.send_coords(pick_pos, speed, 1)\n",
    "\n",
    "    mc.send_coords(drop_pos, speed, 1)"
   ]
  },
  {
   "cell_type": "code",
   "execution_count": 16,
   "metadata": {},
   "outputs": [],
   "source": [
    "mc.set_color(0,255, 255)"
   ]
  },
  {
   "cell_type": "markdown",
   "metadata": {},
   "source": [
    "### Gripper Test\n",
    "\n",
    "mc.set_gripper_ini()"
   ]
  },
  {
   "cell_type": "code",
   "execution_count": 14,
   "metadata": {},
   "outputs": [],
   "source": [
    "mc.set_encoder(7, 2048)"
   ]
  },
  {
   "cell_type": "code",
   "execution_count": 31,
   "metadata": {},
   "outputs": [],
   "source": [
    "mc.send_angle(Angle.J1.value, 90, speed)\n",
    "time.sleep(2)"
   ]
  },
  {
   "cell_type": "code",
   "execution_count": 21,
   "metadata": {},
   "outputs": [],
   "source": [
    "mc.send_angle(Angle.J6.value, 137, speed)\n",
    "time.sleep(1.5)"
   ]
  },
  {
   "cell_type": "code",
   "execution_count": 37,
   "metadata": {},
   "outputs": [],
   "source": [
    "pos_1 = [90, 0, 0, 0, 50, 0]\n",
    "pos_2 = [90, 0, 0, -30, 0, 0]\n",
    "pos_3 = [90, 0, 0, 0, -50, 0]"
   ]
  },
  {
   "cell_type": "code",
   "execution_count": 23,
   "metadata": {},
   "outputs": [],
   "source": [
    "for i in range(2):\n",
    "    mc.send_angle(Angle.J5.value, 50, speed)\n",
    "    time.sleep(1.5)\n",
    "    \n",
    "    mc.send_angle(Angle.J4.value, -50, speed)\n",
    "    time.sleep(1.5)\n",
    "    \n",
    "    mc.send_angle(Angle.J5.value, -50, speed)\n",
    "    time.sleep(1.5)"
   ]
  },
  {
   "cell_type": "code",
   "execution_count": 42,
   "metadata": {},
   "outputs": [],
   "source": [
    "for i in range(8):\n",
    "    mc.send_angles(pos_3, speed)\n",
    "    time.sleep(1.5)\n",
    "    \n",
    "    mc.send_angles(pos_2, speed)\n",
    "    time.sleep(0.5)\n",
    "    \n",
    "    mc.send_angles(pos_1, speed)\n",
    "    time.sleep(1.5)\n",
    "    \n",
    "    mc.send_angles(pos_2, speed)\n",
    "    time.sleep(0.5)\n",
    "    \n",
    "mc.send_angles(pos_3, speed)\n",
    "time.sleep(1.5)"
   ]
  },
  {
   "cell_type": "code",
   "execution_count": null,
   "metadata": {},
   "outputs": [],
   "source": []
  }
 ],
 "metadata": {
  "kernelspec": {
   "display_name": "Python 3 (ipykernel)",
   "language": "python",
   "name": "python3"
  },
  "language_info": {
   "codemirror_mode": {
    "name": "ipython",
    "version": 3
   },
   "file_extension": ".py",
   "mimetype": "text/x-python",
   "name": "python",
   "nbconvert_exporter": "python",
   "pygments_lexer": "ipython3",
   "version": "3.7.3"
  }
 },
 "nbformat": 4,
 "nbformat_minor": 4
}
