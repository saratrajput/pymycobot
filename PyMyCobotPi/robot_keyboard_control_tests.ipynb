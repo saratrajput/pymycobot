{
 "cells": [
  {
   "cell_type": "code",
   "execution_count": 2,
   "id": "c8f77e75",
   "metadata": {},
   "outputs": [],
   "source": [
    "from pymycobot.mycobot import MyCobot\n",
    "from pymycobot.genre import Angle\n",
    "# Variables needed to initialize MyCobot Pi\n",
    "from pymycobot import PI_PORT, PI_BAUD\n",
    "import time\n",
    "\n",
    "# Initialize MyCobot object\n",
    "mc = MyCobot(PI_PORT, PI_BAUD)"
   ]
  },
  {
   "cell_type": "code",
   "execution_count": 1,
   "id": "359bbd22",
   "metadata": {},
   "outputs": [],
   "source": [
    "def set_zero_position():\n",
    "    # Set zero position and speed\n",
    "    zero_position = [0, 0, 0, 0, 0, 0]\n",
    "    # If you decrease speed increase the sleep time\n",
    "    speed = 50\n",
    "\n",
    "    # Use the number sequence to pass the coordinate parameters, so that the robot\n",
    "    # arm can move to the specified position\n",
    "    mc.send_angles(zero_position, speed)\n",
    "    print(mc.is_paused())\n",
    "    time.sleep(2.5)"
   ]
  },
  {
   "cell_type": "code",
   "execution_count": 10,
   "id": "ff77f362",
   "metadata": {},
   "outputs": [],
   "source": [
    "current_j1_angle = mc.get_angles()[0]"
   ]
  },
  {
   "cell_type": "code",
   "execution_count": 12,
   "id": "8a24837c",
   "metadata": {},
   "outputs": [],
   "source": [
    "speed = 10\n",
    "mc.send_angle(Angle.J2.value, current_j1_angle + 5, speed)\n",
    "time.sleep(2)"
   ]
  },
  {
   "cell_type": "code",
   "execution_count": 13,
   "id": "663e6aba",
   "metadata": {},
   "outputs": [
    {
     "name": "stdout",
     "output_type": "stream",
     "text": [
      "-1\n"
     ]
    }
   ],
   "source": [
    "set_zero_position()"
   ]
  },
  {
   "cell_type": "code",
   "execution_count": null,
   "id": "51d21fd5",
   "metadata": {},
   "outputs": [],
   "source": []
  }
 ],
 "metadata": {
  "kernelspec": {
   "display_name": "Python 3 (ipykernel)",
   "language": "python",
   "name": "python3"
  },
  "language_info": {
   "codemirror_mode": {
    "name": "ipython",
    "version": 3
   },
   "file_extension": ".py",
   "mimetype": "text/x-python",
   "name": "python",
   "nbconvert_exporter": "python",
   "pygments_lexer": "ipython3",
   "version": "3.7.3"
  }
 },
 "nbformat": 4,
 "nbformat_minor": 5
}
